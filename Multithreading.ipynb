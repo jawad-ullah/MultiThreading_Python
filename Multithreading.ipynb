{
 "cells": [
  {
   "cell_type": "markdown",
   "id": "2d7474a9",
   "metadata": {},
   "source": [
    "## Multithreading mean to do multiple tasks at same time\n",
    "    _like\n",
    "    - take care of baby \n",
    "    - cooking foods\n",
    "    - attending phone calls\n",
    "    "
   ]
  },
  {
   "cell_type": "code",
   "execution_count": 16,
   "id": "dcf6789b",
   "metadata": {},
   "outputs": [
    {
     "name": "stdout",
     "output_type": "stream",
     "text": [
      "Calculate the square of numbers\n",
      "Calculate the Cube of numbers\n",
      "square of numbers is 4\n",
      "cube of numbers is 8\n",
      "square of numbers is 9\n",
      "cube of numbers is 27\n",
      "square of numbers is 16\n",
      "cube of numbers is 64\n",
      "square of numbers is 25\n",
      "cube of numbers is 125\n",
      "square of numbers is 36\n",
      "cube of numbers is 216\n",
      "time taken 1.0708198547363281\n"
     ]
    }
   ],
   "source": [
    "import time\n",
    "import threading # this module is use to overcome the idel time of cpu\n",
    "\n",
    "def square(arr_numbers):\n",
    "    print(\"Calculate the square of numbers\")\n",
    "    for n in arr_numbers:\n",
    "        time.sleep(0.2)\n",
    "        print(\"square of numbers is\",n*n)\n",
    "\n",
    "def cubes(arr_numbers):\n",
    "    print(\"Calculate the Cube of numbers\")\n",
    "    for n in arr_numbers:\n",
    "        time.sleep(0.2)\n",
    "        print(\"cube of numbers is\",n*n*n)\n",
    "\n",
    "\n",
    "t=time.time()\n",
    "arr=[2,3,4,5,6]\n",
    "\n",
    "thread1=threading.Thread(target=square,args=(arr,))\n",
    "thread2=threading.Thread(target=cubes,args=(arr,))\n",
    "\n",
    "thread1.start()  # used to start the threads\n",
    "thread2.start()\n",
    "\n",
    "thread1.join() # waits for each thread to complete\n",
    "thread2.join()\n",
    "\n",
    "\n",
    "print(\"time taken\", time.time()-t)\n"
   ]
  },
  {
   "cell_type": "code",
   "execution_count": null,
   "id": "5edea3c7",
   "metadata": {},
   "outputs": [],
   "source": []
  },
  {
   "cell_type": "code",
   "execution_count": null,
   "id": "e1691807",
   "metadata": {},
   "outputs": [],
   "source": []
  },
  {
   "cell_type": "code",
   "execution_count": null,
   "id": "dc53d0b5",
   "metadata": {},
   "outputs": [],
   "source": []
  },
  {
   "cell_type": "code",
   "execution_count": null,
   "id": "75beb884",
   "metadata": {},
   "outputs": [],
   "source": []
  },
  {
   "cell_type": "code",
   "execution_count": null,
   "id": "c25bde5f",
   "metadata": {},
   "outputs": [],
   "source": []
  },
  {
   "cell_type": "code",
   "execution_count": null,
   "id": "798631af",
   "metadata": {},
   "outputs": [],
   "source": []
  },
  {
   "cell_type": "code",
   "execution_count": null,
   "id": "16fcc118",
   "metadata": {},
   "outputs": [],
   "source": []
  }
 ],
 "metadata": {
  "kernelspec": {
   "display_name": "Python 3 (ipykernel)",
   "language": "python",
   "name": "python3"
  },
  "language_info": {
   "codemirror_mode": {
    "name": "ipython",
    "version": 3
   },
   "file_extension": ".py",
   "mimetype": "text/x-python",
   "name": "python",
   "nbconvert_exporter": "python",
   "pygments_lexer": "ipython3",
   "version": "3.9.7"
  }
 },
 "nbformat": 4,
 "nbformat_minor": 5
}
